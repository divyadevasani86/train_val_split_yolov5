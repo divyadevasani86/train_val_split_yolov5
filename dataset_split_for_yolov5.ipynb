{
  "nbformat": 4,
  "nbformat_minor": 0,
  "metadata": {
    "colab": {
      "provenance": [],
      "authorship_tag": "ABX9TyM3H39vazj8ZgP6q61Z0K+G",
      "include_colab_link": true
    },
    "kernelspec": {
      "name": "python3",
      "display_name": "Python 3"
    },
    "language_info": {
      "name": "python"
    }
  },
  "cells": [
    {
      "cell_type": "markdown",
      "metadata": {
        "id": "view-in-github",
        "colab_type": "text"
      },
      "source": [
        "<a href=\"https://colab.research.google.com/github/divyadevasani86/train_val_split_yolov5/blob/main/dataset_split_for_yolov5.ipynb\" target=\"_parent\"><img src=\"https://colab.research.google.com/assets/colab-badge.svg\" alt=\"Open In Colab\"/></a>"
      ]
    },
    {
      "cell_type": "markdown",
      "source": [
        "\n",
        "## Here iam working on the data from google drive. You can use the same , just remember to change the paths according to your folders\n",
        "\n",
        "\n"
      ],
      "metadata": {
        "id": "v46Z4dS1iCBY"
      }
    },
    {
      "cell_type": "code",
      "execution_count": 1,
      "metadata": {
        "id": "eGNusnNghCa8"
      },
      "outputs": [],
      "source": [
        "# accessing the drive\n",
        "from google.colab import drive\n",
        "drive.mount('/content/drive')\n"
      ]
    },
    {
      "cell_type": "code",
      "source": [
        "# copy the data from drive to the folder\n",
        "# copying zip folder:\n",
        "!zip path(from drive) -d input_folder\n",
        "\n",
        "#copying a folder\n",
        "\n",
        "!mkdir input_dir\n",
        "!cp path(from drive) -r input_folder"
      ],
      "metadata": {
        "id": "XNGxi7F9iJj1"
      },
      "execution_count": null,
      "outputs": []
    },
    {
      "cell_type": "code",
      "source": [
        "# use split folders to split the data into train and val\n",
        "\n",
        "input_folder=/content/input_folder\n",
        "output=\"output folder path\"\n",
        "\n",
        "!pip install split_folders\n",
        "import splitfolders\n",
        "splitfolders.ratio(input_folder, output,\n",
        "    seed=1337, ratio=(.8, .2), group_prefix=2, move=False)\n",
        "\n",
        "# with this code two folders (train and val) will be created."
      ],
      "metadata": {
        "id": "axU0xRwJipGc"
      },
      "execution_count": null,
      "outputs": []
    },
    {
      "cell_type": "code",
      "source": [
        "# Create the data hierarchy for yolov5 model\n",
        "\n",
        "%cd /content\n",
        "!mkdir yolo_train\n",
        "%cd yolo_train\n",
        "!mkdir images\n",
        "!mkdir labels\n",
        "\n",
        "%cd images\n",
        "!mkdir train\n",
        "!mkdir val\n"
      ],
      "metadata": {
        "id": "uwfIt3pTe8A5"
      },
      "execution_count": null,
      "outputs": []
    },
    {
      "cell_type": "code",
      "source": [
        "%cd /content/yolo_train/labels\n",
        "!mkdir train\n",
        "!mkdir val"
      ],
      "metadata": {
        "id": "H7n7IxO8fHlN"
      },
      "execution_count": null,
      "outputs": []
    },
    {
      "cell_type": "code",
      "source": [
        "#now move the data to the above folders\n",
        "\n",
        "!mv output/train/*.txt /content/yolo_train/labels/train\n",
        "\n",
        "!mv output/val/*.txt  /content/yolo_train/labels/val\n",
        "\n",
        "!mv output/train/*  /content/yolo_train/images/train\n",
        "\n",
        "!mv output/val/*  /content/yolo_train/images/val"
      ],
      "metadata": {
        "id": "ebqf7m8LfOhL"
      },
      "execution_count": null,
      "outputs": []
    },
    {
      "cell_type": "markdown",
      "source": [
        "now the data is ready to use for training yolov5 custom data training.\n"
      ],
      "metadata": {
        "id": "ZMAzMKprhYNT"
      }
    },
    {
      "cell_type": "code",
      "source": [],
      "metadata": {
        "id": "1cJ5sSNVgnsB"
      },
      "execution_count": null,
      "outputs": []
    }
  ]
}